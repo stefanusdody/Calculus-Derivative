{
 "cells": [
  {
   "cell_type": "code",
   "execution_count": 1,
   "id": "e752f332",
   "metadata": {},
   "outputs": [],
   "source": [
    "# import libraries\n",
    "import sympy as sy"
   ]
  },
  {
   "cell_type": "markdown",
   "id": "28c317ab",
   "metadata": {},
   "source": [
    "#### Derivative dari sebuah fungsi:"
   ]
  },
  {
   "cell_type": "markdown",
   "id": "8c7e3eca",
   "metadata": {},
   "source": [
    "$y=x^2+2x+1$"
   ]
  },
  {
   "cell_type": "code",
   "execution_count": 2,
   "id": "ee9855a8",
   "metadata": {},
   "outputs": [],
   "source": [
    "x=sy.Symbol('x', real=True)"
   ]
  },
  {
   "cell_type": "code",
   "execution_count": 3,
   "id": "3f2d157b",
   "metadata": {},
   "outputs": [],
   "source": [
    "y=x**2+2*x+1"
   ]
  },
  {
   "cell_type": "code",
   "execution_count": 4,
   "id": "070854a5",
   "metadata": {},
   "outputs": [
    {
     "data": {
      "text/latex": [
       "$\\displaystyle 2 x + 2$"
      ],
      "text/plain": [
       "2*x + 2"
      ]
     },
     "execution_count": 4,
     "metadata": {},
     "output_type": "execute_result"
    }
   ],
   "source": [
    "y.diff(x)"
   ]
  },
  {
   "cell_type": "markdown",
   "id": "e45666aa",
   "metadata": {},
   "source": [
    "Derivative dari fungsi **$y=x^2+2x+1$** adalah **$y=2x+2$**"
   ]
  },
  {
   "cell_type": "markdown",
   "id": "ecd2c9f9",
   "metadata": {},
   "source": [
    "#### Derivative dari sebuah fungsi:"
   ]
  },
  {
   "cell_type": "markdown",
   "id": "c003fdea",
   "metadata": {},
   "source": [
    "$y=4x^3+3x^2+2x-1$"
   ]
  },
  {
   "cell_type": "code",
   "execution_count": 5,
   "id": "ae700b2b",
   "metadata": {},
   "outputs": [],
   "source": [
    "x=sy.Symbol('x', real=True)"
   ]
  },
  {
   "cell_type": "code",
   "execution_count": 6,
   "id": "118c67b6",
   "metadata": {},
   "outputs": [],
   "source": [
    "y=4*x**3+3*x**2+2*x-1"
   ]
  },
  {
   "cell_type": "code",
   "execution_count": 9,
   "id": "03d6f835",
   "metadata": {},
   "outputs": [
    {
     "data": {
      "text/latex": [
       "$\\displaystyle 12 x^{2} + 6 x + 2$"
      ],
      "text/plain": [
       "12*x**2 + 6*x + 2"
      ]
     },
     "execution_count": 9,
     "metadata": {},
     "output_type": "execute_result"
    }
   ],
   "source": [
    "j = y.diff(x)\n",
    "j"
   ]
  },
  {
   "cell_type": "markdown",
   "id": "8a55f143",
   "metadata": {},
   "source": [
    "Derivative dari fungsi **$y=4x^3+3x^2+2x-1$** adalah **$y=12x^2+6x+2$**"
   ]
  }
 ],
 "metadata": {
  "kernelspec": {
   "display_name": "Python 3",
   "language": "python",
   "name": "python3"
  },
  "language_info": {
   "codemirror_mode": {
    "name": "ipython",
    "version": 3
   },
   "file_extension": ".py",
   "mimetype": "text/x-python",
   "name": "python",
   "nbconvert_exporter": "python",
   "pygments_lexer": "ipython3",
   "version": "3.8.5"
  }
 },
 "nbformat": 4,
 "nbformat_minor": 5
}
